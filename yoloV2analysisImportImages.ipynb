{
 "cells": [
  {
   "cell_type": "markdown",
   "metadata": {},
   "source": [
    "Originally created by Ben Miethig, modified by Elliott Huangfu."
   ]
  },
  {
   "cell_type": "code",
   "execution_count": 1,
   "metadata": {},
   "outputs": [],
   "source": [
    "#darkflow folder must be in current directory.\n",
    "import cv2\n",
    "from darkflow.net.build import TFNet\n",
    "import matplotlib.pyplot as plt\n",
    "import numpy as np\n",
    "import csv\n",
    "import os\n",
    "\n",
    "%config InlineBackend.figure_format = 'svg'"
   ]
  },
  {
   "cell_type": "code",
   "execution_count": 2,
   "metadata": {},
   "outputs": [
    {
     "name": "stdout",
     "output_type": "stream",
     "text": [
      "Parsing cfg/tiny-yolo-7c.cfg\n",
      "Loading None ...\n",
      "Finished in 0.0s\n",
      "\n",
      "Building net ...\n",
      "Source | Train? | Layer description                | Output size\n",
      "-------+--------+----------------------------------+---------------\n",
      "       |        | input                            | (?, 416, 416, 3)\n",
      " Init  |  Yep!  | conv 3x3p1_1  +bnorm  leaky      | (?, 416, 416, 16)\n",
      " Load  |  Yep!  | maxp 2x2p0_2                     | (?, 208, 208, 16)\n",
      " Init  |  Yep!  | conv 3x3p1_1  +bnorm  leaky      | (?, 208, 208, 32)\n",
      " Load  |  Yep!  | maxp 2x2p0_2                     | (?, 104, 104, 32)\n",
      " Init  |  Yep!  | conv 3x3p1_1  +bnorm  leaky      | (?, 104, 104, 64)\n",
      " Load  |  Yep!  | maxp 2x2p0_2                     | (?, 52, 52, 64)\n",
      " Init  |  Yep!  | conv 3x3p1_1  +bnorm  leaky      | (?, 52, 52, 128)\n",
      " Load  |  Yep!  | maxp 2x2p0_2                     | (?, 26, 26, 128)\n",
      " Init  |  Yep!  | conv 3x3p1_1  +bnorm  leaky      | (?, 26, 26, 256)\n",
      " Load  |  Yep!  | maxp 2x2p0_2                     | (?, 13, 13, 256)\n",
      " Init  |  Yep!  | conv 3x3p1_1  +bnorm  leaky      | (?, 13, 13, 512)\n",
      " Load  |  Yep!  | maxp 2x2p0_1                     | (?, 13, 13, 512)\n",
      " Init  |  Yep!  | conv 3x3p1_1  +bnorm  leaky      | (?, 13, 13, 1024)\n",
      " Init  |  Yep!  | conv 3x3p1_1  +bnorm  leaky      | (?, 13, 13, 1024)\n",
      " Init  |  Yep!  | conv 1x1p0_1    linear           | (?, 13, 13, 60)\n",
      "-------+--------+----------------------------------+---------------\n",
      "Running entirely on CPU\n",
      "Loading from ./ckpt/tiny-yolo-7c-29250\n",
      "INFO:tensorflow:Restoring parameters from ./ckpt/tiny-yolo-7c-29250\n",
      "Finished in 4.808633327484131s\n",
      "\n"
     ]
    }
   ],
   "source": [
    "# Darkflow network config, refer to tutorial by Mark Jay: https://www.youtube.com/watch?v=fSM6cdFQdwI&t=436s\n",
    "\n",
    "'''options = {\n",
    "    'model': 'cfg/yolo.cfg',\n",
    "    'load': 'bin/yolov2.weights',\n",
    "    'threshold': 0.3,\n",
    "}'''\n",
    "''''gpu': 1.0''' \n",
    "\n",
    "options = {\n",
    "    'model': 'cfg/tiny-yolo-7c.cfg',\n",
    "    'load': 29250,\n",
    "    'threshold': 0.2,\n",
    "    'labels': 'labelsAll.txt'\n",
    "}\n",
    "\n",
    "'''  'labels': 'labelsMATLABannotations.txt'  '''\n",
    "tfnet = TFNet(options)"
   ]
  },
  {
   "cell_type": "code",
   "execution_count": 3,
   "metadata": {
    "scrolled": true
   },
   "outputs": [
    {
     "data": {
      "text/plain": [
       "1181"
      ]
     },
     "execution_count": 3,
     "metadata": {},
     "output_type": "execute_result"
    }
   ],
   "source": [
    "# Gather all image filenames\n",
    "\n",
    "# ImPath = 'C:\\\\Users\\\\benmi\\\\Documents\\\\Thesis\\\\Thesis Instructions\\\\Raw Data\\\\All_Combined\\\\Validation\\\\'\n",
    "ImPath = '..\\\\All_Combined\\\\Validation\\\\'\n",
    "files = []\n",
    "# r=root, d=directories, f = files\n",
    "for r, d, f in os.walk(ImPath):\n",
    "    for file in f:\n",
    "        if '.jpg' in file:\n",
    "            #files.append(os.path.join(r, file))\n",
    "            files.append(file)\n",
    "len(files)"
   ]
  },
  {
   "cell_type": "code",
   "execution_count": null,
   "metadata": {},
   "outputs": [],
   "source": [
    "# Process image, save predictions as csv files.\n",
    "\n",
    "CSVpath = 'C:\\\\Users\\\\benmi\\\\Documents\\\\Thesis\\\\Thesis Instructions\\\\Raw Data\\\\Detected_CSV_Results\\\\'\n",
    "CSVpath = '..\\\\All_Combined\\\\Detected_CSV_Results\\\\'   # for validation set \n",
    "\n",
    "# Save the results to a .csv file or something I can get to later using Matlab\n",
    "i = 0\n",
    "print(\"Processing {:3d} images: \".format(len(files)), end='')\n",
    "for f in files:\n",
    "    img = cv2.imread(ImPath+f, cv2.IMREAD_COLOR)\n",
    "    img = cv2.cvtColor(img, cv2.COLOR_BGR2RGB)\n",
    "    results = tfnet.return_predict(img)\n",
    "\n",
    "    # img.shape\n",
    "    # results\n",
    "    \n",
    "    with open(CSVpath+f[:-4]+'.csv', 'w') as csvFile:\n",
    "        fields = ['label','confidence','topleft','bottomright']\n",
    "        writer = csv.DictWriter(csvFile,fieldnames=fields) #,dialect='myDialect')\n",
    "        writer.writeheader()\n",
    "        writer.writerows(results)\n",
    "    \n",
    "    csvFile.close()\n",
    "    \n",
    "    # Display progress\n",
    "    i += 1\n",
    "    if i % 100 == 1:\n",
    "        print(\"{:3d}, \".format(i), end='')\n",
    "\n",
    "print('done.')"
   ]
  },
  {
   "cell_type": "markdown",
   "metadata": {},
   "source": [
    "**Processing finished.** The following blocks is for demonstration."
   ]
  },
  {
   "cell_type": "code",
   "execution_count": null,
   "metadata": {},
   "outputs": [],
   "source": [
    "# Let's just display the last image\n",
    "plt.imshow(img)\n",
    "plt.show\n",
    "result"
   ]
  },
  {
   "cell_type": "code",
   "execution_count": null,
   "metadata": {},
   "outputs": [],
   "source": [
    "# Now draw the bonding box on original image\n",
    "\n",
    "colors = [tuple(255 * np.random.rand(3)) for i in range(100)]\n",
    "for color, result in zip(colors, results):\n",
    "    \n",
    "    topleft = (result['topleft']['x'], result['topleft']['y'])\n",
    "    bottomright = (result['bottomright']['x'], result['bottomright']['y'])\n",
    "    label = result['label']\n",
    "    confidence = result['confidence']\n",
    "    img = cv2.rectangle(img, topleft, bottomright, (0, 255, 0), 7) \n",
    "    img = cv2.putText(img, label, bottomright, cv2.FONT_HERSHEY_COMPLEX, 1, (0,0,0), 2)\n",
    "\n",
    "\n",
    "plt.imshow(img)\n",
    "plt.show"
   ]
  }
 ],
 "metadata": {
  "kernelspec": {
   "display_name": "Python 3",
   "language": "python",
   "name": "python3"
  },
  "language_info": {
   "codemirror_mode": {
    "name": "ipython",
    "version": 3
   },
   "file_extension": ".py",
   "mimetype": "text/x-python",
   "name": "python",
   "nbconvert_exporter": "python",
   "pygments_lexer": "ipython3",
   "version": "3.6.9"
  }
 },
 "nbformat": 4,
 "nbformat_minor": 2
}
